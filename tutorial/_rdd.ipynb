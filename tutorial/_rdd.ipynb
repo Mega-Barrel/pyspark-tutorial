{
 "cells": [
  {
   "cell_type": "code",
   "execution_count": 1,
   "id": "2ceaafa7",
   "metadata": {},
   "outputs": [],
   "source": [
    "from pyspark.sql import SparkSession"
   ]
  },
  {
   "cell_type": "code",
   "execution_count": 2,
   "id": "a1de3d94",
   "metadata": {},
   "outputs": [],
   "source": [
    "spark_session = (\n",
    "    SparkSession.\n",
    "    builder.\n",
    "    appName('tutorial').\n",
    "    getOrCreate()\n",
    ")"
   ]
  },
  {
   "cell_type": "code",
   "execution_count": 3,
   "id": "6b3c20ee",
   "metadata": {},
   "outputs": [],
   "source": [
    "sc = spark_session.sparkContext"
   ]
  },
  {
   "cell_type": "code",
   "execution_count": null,
   "id": "aaea34cf",
   "metadata": {},
   "outputs": [],
   "source": [
    "rdd_1 = sc.parallelize([\n",
    "    1, 2, 3, 4, 5\n",
    "])"
   ]
  },
  {
   "cell_type": "code",
   "execution_count": null,
   "id": "f27d44a4",
   "metadata": {},
   "outputs": [],
   "source": [
    "rdd_1.collect()"
   ]
  },
  {
   "cell_type": "code",
   "execution_count": null,
   "id": "a3d9b068",
   "metadata": {},
   "outputs": [],
   "source": [
    "squared_rdd_1  = rdd_1.map(lambda x: x ** 2)\n",
    "squared_rdd_1.collect()"
   ]
  },
  {
   "cell_type": "code",
   "execution_count": null,
   "id": "2e904092",
   "metadata": {},
   "outputs": [],
   "source": [
    "mod_2_rdd = rdd_1.filter(lambda x: x % 2 == 0)\n",
    "mod_2_rdd.collect()"
   ]
  },
  {
   "cell_type": "code",
   "execution_count": null,
   "id": "cc01829f",
   "metadata": {},
   "outputs": [],
   "source": [
    "rdd_2 = sc.parallelize(\n",
    "    [\n",
    "        (1, 2),\n",
    "        (2, 3),\n",
    "        (1, 3),\n",
    "        (2, 5)\n",
    "    ]\n",
    ")"
   ]
  },
  {
   "cell_type": "code",
   "execution_count": null,
   "id": "e3a3ee77",
   "metadata": {},
   "outputs": [],
   "source": [
    "reduced_rdd = rdd_2.reduceByKey(lambda x, y: x + y)\n",
    "reduced_rdd.collect()"
   ]
  },
  {
   "cell_type": "code",
   "execution_count": null,
   "id": "dd6710f0",
   "metadata": {},
   "outputs": [],
   "source": [
    "rdd_3 = sc.parallelize(\n",
    "    [\n",
    "        (1, 'Apple'),\n",
    "        (3, 'Apricot'),\n",
    "        (1, 'Banana'),\n",
    "        (2, 'Watermelon'),\n",
    "        (2, 'Jackfruit'),\n",
    "    ]\n",
    ")"
   ]
  },
  {
   "cell_type": "code",
   "execution_count": null,
   "id": "1a912030",
   "metadata": {},
   "outputs": [],
   "source": [
    "rdd_3_grouped = rdd_3.groupByKey()\n",
    "rdd_3_res = rdd_3_grouped.collect()"
   ]
  },
  {
   "cell_type": "code",
   "execution_count": null,
   "id": "0be1701f",
   "metadata": {},
   "outputs": [],
   "source": [
    "[(k, list(v)) for k, v in rdd_3_res]"
   ]
  },
  {
   "cell_type": "code",
   "execution_count": 10,
   "id": "9b0d5148",
   "metadata": {},
   "outputs": [
    {
     "data": {
      "text/plain": [
       "[(1, 'Saurabh', 24, 90000, 'Job-1'),\n",
       " (2, 'axy', 14, 842, 'Job-1'),\n",
       " (3, 'uwb', 17, 98746, 'Job'),\n",
       " (1, 'Saurabh', 24, 151, 'Job-3'),\n",
       " (2, 'axy', 14, 218, 'Job-2'),\n",
       " (1, 'Saurabh', 24, 188, 'Job-2')]"
      ]
     },
     "execution_count": 10,
     "metadata": {},
     "output_type": "execute_result"
    }
   ],
   "source": [
    "emp_rdd = sc.parallelize(\n",
    "    [\n",
    "        (1, 'Saurabh', 24, 90000, 'Job-1'),\n",
    "        (2, 'axy', 14, 842, 'Job-1'),\n",
    "        (3, 'uwb', 17, 98746, 'Job'),\n",
    "        (1, 'Saurabh', 24, 151, 'Job-3'),\n",
    "        (2, 'axy', 14, 218, 'Job-2'),\n",
    "        (1, 'Saurabh', 24, 188, 'Job-2'),\n",
    "    ]\n",
    ")\n",
    "emp_rdd.collect()"
   ]
  },
  {
   "cell_type": "markdown",
   "id": "70ebaec7",
   "metadata": {},
   "source": [
    "### Narrow Transformation"
   ]
  },
  {
   "cell_type": "code",
   "execution_count": null,
   "id": "d0ec30d9",
   "metadata": {},
   "outputs": [
    {
     "data": {
      "text/plain": [
       "[(2, 'axy', 14, 842, 'Job-1'),\n",
       " (3, 'uwb', 17, 98746, 'Job'),\n",
       " (2, 'axy', 14, 218, 'Job-2')]"
      ]
     },
     "execution_count": 11,
     "metadata": {},
     "output_type": "execute_result"
    }
   ],
   "source": [
    "filtered_emp_rdd = (\n",
    "    emp_rdd.\n",
    "    filter(lambda x: x[2] <= 18)\n",
    ")\n",
    "filtered_emp_rdd.collect()"
   ]
  },
  {
   "cell_type": "markdown",
   "id": "dca72033",
   "metadata": {},
   "source": [
    "### Wide Transformation"
   ]
  },
  {
   "cell_type": "code",
   "execution_count": null,
   "id": "9c954897",
   "metadata": {},
   "outputs": [
    {
     "data": {
      "text/plain": [
       "[('Saurabh', 90000),\n",
       " ('axy', 842),\n",
       " ('uwb', 98746),\n",
       " ('Saurabh', 151),\n",
       " ('axy', 218),\n",
       " ('Saurabh', 188)]"
      ]
     },
     "execution_count": 13,
     "metadata": {},
     "output_type": "execute_result"
    }
   ],
   "source": [
    "name_income_rdd = (\n",
    "    emp_rdd.\n",
    "    map(lambda x: (x[1], x[3]))\n",
    ")\n",
    "name_income_rdd.collect()"
   ]
  },
  {
   "cell_type": "code",
   "execution_count": 14,
   "id": "50ca1750",
   "metadata": {},
   "outputs": [
    {
     "data": {
      "text/plain": [
       "[('Saurabh', 90339), ('axy', 1060), ('uwb', 98746)]"
      ]
     },
     "execution_count": 14,
     "metadata": {},
     "output_type": "execute_result"
    }
   ],
   "source": [
    "group_by_name = (\n",
    "    name_income_rdd.\n",
    "    reduceByKey(lambda x, y: x + y)\n",
    ")\n",
    "group_by_name.collect()"
   ]
  },
  {
   "cell_type": "code",
   "execution_count": null,
   "id": "3c232465",
   "metadata": {},
   "outputs": [],
   "source": []
  }
 ],
 "metadata": {
  "kernelspec": {
   "display_name": "spark-env",
   "language": "python",
   "name": "python3"
  },
  "language_info": {
   "codemirror_mode": {
    "name": "ipython",
    "version": 3
   },
   "file_extension": ".py",
   "mimetype": "text/x-python",
   "name": "python",
   "nbconvert_exporter": "python",
   "pygments_lexer": "ipython3",
   "version": "3.9.12"
  }
 },
 "nbformat": 4,
 "nbformat_minor": 5
}
