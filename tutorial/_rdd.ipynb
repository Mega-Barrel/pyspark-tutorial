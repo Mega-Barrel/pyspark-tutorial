{
 "cells": [
  {
   "cell_type": "code",
   "execution_count": 1,
   "id": "2ceaafa7",
   "metadata": {},
   "outputs": [],
   "source": [
    "from pyspark.sql import SparkSession"
   ]
  },
  {
   "cell_type": "code",
   "execution_count": 2,
   "id": "a1de3d94",
   "metadata": {},
   "outputs": [],
   "source": [
    "spark_session = (\n",
    "    SparkSession.\n",
    "    builder.\n",
    "    appName('tutorial').\n",
    "    getOrCreate()\n",
    ")"
   ]
  },
  {
   "cell_type": "code",
   "execution_count": 3,
   "id": "6b3c20ee",
   "metadata": {},
   "outputs": [],
   "source": [
    "sc = spark_session.sparkContext"
   ]
  },
  {
   "cell_type": "code",
   "execution_count": 4,
   "id": "aaea34cf",
   "metadata": {},
   "outputs": [],
   "source": [
    "rdd_1 = sc.parallelize([\n",
    "    1, 2, 3, 4, 5\n",
    "])"
   ]
  },
  {
   "cell_type": "code",
   "execution_count": 5,
   "id": "f27d44a4",
   "metadata": {},
   "outputs": [
    {
     "data": {
      "text/plain": [
       "[1, 2, 3, 4, 5]"
      ]
     },
     "execution_count": 5,
     "metadata": {},
     "output_type": "execute_result"
    }
   ],
   "source": [
    "rdd_1.collect()"
   ]
  },
  {
   "cell_type": "code",
   "execution_count": 6,
   "id": "a3d9b068",
   "metadata": {},
   "outputs": [
    {
     "data": {
      "text/plain": [
       "[1, 4, 9, 16, 25]"
      ]
     },
     "execution_count": 6,
     "metadata": {},
     "output_type": "execute_result"
    }
   ],
   "source": [
    "squared_rdd_1  = rdd_1.map(lambda x: x ** 2)\n",
    "squared_rdd_1.collect()"
   ]
  },
  {
   "cell_type": "code",
   "execution_count": 7,
   "id": "2e904092",
   "metadata": {},
   "outputs": [
    {
     "data": {
      "text/plain": [
       "[2, 4]"
      ]
     },
     "execution_count": 7,
     "metadata": {},
     "output_type": "execute_result"
    }
   ],
   "source": [
    "mod_2_rdd = rdd_1.filter(lambda x: x % 2 == 0)\n",
    "mod_2_rdd.collect()"
   ]
  },
  {
   "cell_type": "code",
   "execution_count": 8,
   "id": "cc01829f",
   "metadata": {},
   "outputs": [],
   "source": [
    "rdd_2 = sc.parallelize(\n",
    "    [\n",
    "        (1, 2),\n",
    "        (2, 3),\n",
    "        (1, 3),\n",
    "        (2, 5)\n",
    "    ]\n",
    ")"
   ]
  },
  {
   "cell_type": "code",
   "execution_count": 9,
   "id": "e3a3ee77",
   "metadata": {},
   "outputs": [
    {
     "data": {
      "text/plain": [
       "[(1, 5), (2, 8)]"
      ]
     },
     "execution_count": 9,
     "metadata": {},
     "output_type": "execute_result"
    }
   ],
   "source": [
    "reduced_rdd = rdd_2.reduceByKey(lambda x, y: x + y)\n",
    "reduced_rdd.collect()"
   ]
  },
  {
   "cell_type": "code",
   "execution_count": 10,
   "id": "dd6710f0",
   "metadata": {},
   "outputs": [],
   "source": [
    "rdd_3 = sc.parallelize(\n",
    "    [\n",
    "        (1, 'Apple'),\n",
    "        (3, 'Apricot'),\n",
    "        (1, 'Banana'),\n",
    "        (2, 'Watermelon'),\n",
    "        (2, 'Jackfruit'),\n",
    "    ]\n",
    ")"
   ]
  },
  {
   "cell_type": "code",
   "execution_count": 11,
   "id": "1a912030",
   "metadata": {},
   "outputs": [],
   "source": [
    "rdd_3_grouped = rdd_3.groupByKey()\n",
    "rdd_3_res = rdd_3_grouped.collect()"
   ]
  },
  {
   "cell_type": "code",
   "execution_count": 12,
   "id": "0be1701f",
   "metadata": {},
   "outputs": [
    {
     "data": {
      "text/plain": [
       "[(1, ['Apple', 'Banana']), (2, ['Watermelon', 'Jackfruit']), (3, ['Apricot'])]"
      ]
     },
     "execution_count": 12,
     "metadata": {},
     "output_type": "execute_result"
    }
   ],
   "source": [
    "[(k, list(v)) for k, v in rdd_3_res]"
   ]
  },
  {
   "cell_type": "code",
   "execution_count": null,
   "id": "9b0d5148",
   "metadata": {},
   "outputs": [],
   "source": []
  }
 ],
 "metadata": {
  "kernelspec": {
   "display_name": "spark-env",
   "language": "python",
   "name": "python3"
  },
  "language_info": {
   "codemirror_mode": {
    "name": "ipython",
    "version": 3
   },
   "file_extension": ".py",
   "mimetype": "text/x-python",
   "name": "python",
   "nbconvert_exporter": "python",
   "pygments_lexer": "ipython3",
   "version": "3.9.12"
  }
 },
 "nbformat": 4,
 "nbformat_minor": 5
}
